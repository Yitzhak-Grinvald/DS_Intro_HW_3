{
 "cells": [
  {
   "cell_type": "code",
   "execution_count": 136,
   "id": "85e72499",
   "metadata": {},
   "outputs": [],
   "source": [
    "def read_line(n, file):\n",
    "    text= []\n",
    "    if type(n)!= int:\n",
    "        print(\"invalid input detected\")\n",
    "    else:\n",
    "        try:\n",
    "            fhand = open(file)\n",
    "            for line in fhand:\n",
    "                text.append(line)\n",
    "            if n>len(text):\n",
    "                print(\"line\", n, \"dosen't exist\")\n",
    "            else:\n",
    "                print(text[n-1])\n",
    "        except:\n",
    "            print(\"file not found\")"
   ]
  },
  {
   "cell_type": "code",
   "execution_count": 144,
   "id": "3ba69a4f",
   "metadata": {},
   "outputs": [],
   "source": [
    "def longest_words(file):\n",
    "    try:\n",
    "        fhand = open(file)\n",
    "        text= fhand.read()\n",
    "        for char in text:\n",
    "            if char.isalpha() == False:\n",
    "                text = text.replace(char,' ') \n",
    "        text= text.split()\n",
    "        text.sort(reverse= True, key= len)\n",
    "        return(text[:5])\n",
    "    except:\n",
    "        print(\"file not found\")\n",
    "        return []"
   ]
  }
 ],
 "metadata": {
  "kernelspec": {
   "display_name": "Python 3 (ipykernel)",
   "language": "python",
   "name": "python3"
  },
  "language_info": {
   "codemirror_mode": {
    "name": "ipython",
    "version": 3
   },
   "file_extension": ".py",
   "mimetype": "text/x-python",
   "name": "python",
   "nbconvert_exporter": "python",
   "pygments_lexer": "ipython3",
   "version": "3.9.7"
  }
 },
 "nbformat": 4,
 "nbformat_minor": 5
}
