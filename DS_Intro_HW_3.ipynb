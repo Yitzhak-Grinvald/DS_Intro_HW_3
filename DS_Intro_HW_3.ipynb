{
 "cells": [
  {
   "cell_type": "code",
   "execution_count": 42,
   "id": "85e72499",
   "metadata": {},
   "outputs": [],
   "source": [
    "def read_line(n, file):\n",
    "    text= []\n",
    "    if type(n)!= int:\n",
    "        return(\"invalid input detected\")\n",
    "    else:\n",
    "        try:\n",
    "            fhand = open(file)\n",
    "            for line in fhand:\n",
    "                text.append(line)\n",
    "            if n>len(text):\n",
    "                return(\"line\", n, \"dosen't exist\")\n",
    "            else:\n",
    "                return(print(text[n-1]))\n",
    "        except:\n",
    "            return(\"file not found\")"
   ]
  },
  {
   "cell_type": "code",
   "execution_count": 43,
   "id": "3ba69a4f",
   "metadata": {},
   "outputs": [],
   "source": [
    "def longest_words(file):\n",
    "    try:\n",
    "        fhand = open(file)\n",
    "        text= fhand.read()\n",
    "        for char in text:\n",
    "            if char.isalpha() == False:\n",
    "                text = text.replace(char,' ') \n",
    "        text= text.split()\n",
    "        text.sort(reverse= True, key= len)\n",
    "        return(text[:5])\n",
    "    except:\n",
    "        print(\"file not found\")\n",
    "        return []"
   ]
  }
 ],
 "metadata": {
  "kernelspec": {
   "display_name": "Python 3 (ipykernel)",
   "language": "python",
   "name": "python3"
  },
  "language_info": {
   "codemirror_mode": {
    "name": "ipython",
    "version": 3
   },
   "file_extension": ".py",
   "mimetype": "text/x-python",
   "name": "python",
   "nbconvert_exporter": "python",
   "pygments_lexer": "ipython3",
   "version": "3.9.7"
  }
 },
 "nbformat": 4,
 "nbformat_minor": 5
}
